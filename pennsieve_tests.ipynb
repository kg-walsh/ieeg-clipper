{
 "cells": [
  {
   "cell_type": "code",
   "execution_count": null,
   "id": "13de52e8",
   "metadata": {},
   "outputs": [],
   "source": [
    "%load_ext autoreload\n",
    "%autoreload 2\n",
    "\n",
    "from pennsieve import Pennsieve\n",
    "import pandas as pd\n",
    "\n",
    "# Notes - Pennsieve agent must be running and must be on port 9000\n",
    "# Notes - need to be using pennsieve and not pennsieve2 (uninstall pennsieve 2 if error occuring)\n",
    "# Notes - Won't load 'unprocessed' files"
   ]
  },
  {
   "cell_type": "code",
   "execution_count": 3,
   "id": "26f798f4",
   "metadata": {},
   "outputs": [
    {
     "name": "stdout",
     "output_type": "stream",
     "text": [
      "Error connecting to the Pennsieve Agent\n",
      "            \n",
      "Please start the Pennsieve agent in the terminal using 'pennsieve agent', or\n",
      "initialize the Pennsieve Python Client without Agent support by providing\n",
      "the 'connect=false' parameter.\n",
      "            \n"
     ]
    }
   ],
   "source": [
    "p = Pennsieve()"
   ]
  },
  {
   "cell_type": "code",
   "execution_count": 5,
   "id": "064982aa",
   "metadata": {},
   "outputs": [
    {
     "name": "stderr",
     "output_type": "stream",
     "text": [
      "HTTP error occurred: 401 Client Error: Unauthorized for url: https://api.pennsieve.io/datasets\n"
     ]
    },
    {
     "ename": "AttributeError",
     "evalue": "'NoneType' object has no attribute 'values'",
     "output_type": "error",
     "traceback": [
      "\u001b[0;31m---------------------------------------------------------------------------\u001b[0m",
      "\u001b[0;31mAttributeError\u001b[0m                            Traceback (most recent call last)",
      "Cell \u001b[0;32mIn[5], line 1\u001b[0m\n\u001b[0;32m----> 1\u001b[0m \u001b[43mp\u001b[49m\u001b[38;5;241;43m.\u001b[39;49m\u001b[43muse_dataset\u001b[49m\u001b[43m(\u001b[49m\u001b[38;5;124;43m'\u001b[39;49m\u001b[38;5;124;43m'\u001b[39;49m\u001b[43m)\u001b[49m\n\u001b[1;32m      2\u001b[0m channels \u001b[38;5;241m=\u001b[39m p\u001b[38;5;241m.\u001b[39mtimeseries\u001b[38;5;241m.\u001b[39mgetChannels(p\u001b[38;5;241m.\u001b[39mdataset, \u001b[38;5;124m'\u001b[39m\u001b[38;5;124m'\u001b[39m, \u001b[38;5;28;01mTrue\u001b[39;00m)\n",
      "File \u001b[0;32m~/miniconda3/envs/analysis/lib/python3.10/site-packages/pennsieve/pennsieve.py:238\u001b[0m, in \u001b[0;36mPennsieve.use_dataset\u001b[0;34m(self, dataset_id)\u001b[0m\n\u001b[1;32m    236\u001b[0m \u001b[38;5;28;01mif\u001b[39;00m \u001b[38;5;28mself\u001b[39m\u001b[38;5;241m.\u001b[39m_datasets \u001b[38;5;129;01mand\u001b[39;00m dataset_id \u001b[38;5;129;01min\u001b[39;00m \u001b[38;5;28mself\u001b[39m\u001b[38;5;241m.\u001b[39m_datasets\u001b[38;5;241m.\u001b[39mkeys():\n\u001b[1;32m    237\u001b[0m     \u001b[38;5;28mself\u001b[39m\u001b[38;5;241m.\u001b[39mdataset \u001b[38;5;241m=\u001b[39m \u001b[38;5;28mself\u001b[39m\u001b[38;5;241m.\u001b[39m_datasets[dataset_id]\n\u001b[0;32m--> 238\u001b[0m \u001b[38;5;28;01melif\u001b[39;00m dataset_id \u001b[38;5;129;01min\u001b[39;00m \u001b[38;5;28;43mself\u001b[39;49m\u001b[38;5;241;43m.\u001b[39;49m\u001b[43m_datasets\u001b[49m\u001b[38;5;241;43m.\u001b[39;49m\u001b[43mvalues\u001b[49m():\n\u001b[1;32m    239\u001b[0m     \u001b[38;5;28mself\u001b[39m\u001b[38;5;241m.\u001b[39mdataset \u001b[38;5;241m=\u001b[39m dataset_id\n\u001b[1;32m    240\u001b[0m \u001b[38;5;28;01massert\u001b[39;00m \u001b[38;5;28mself\u001b[39m\u001b[38;5;241m.\u001b[39mdataset \u001b[38;5;129;01mis\u001b[39;00m \u001b[38;5;129;01mnot\u001b[39;00m \u001b[38;5;28;01mNone\u001b[39;00m\n",
      "\u001b[0;31mAttributeError\u001b[0m: 'NoneType' object has no attribute 'values'"
     ]
    }
   ],
   "source": [
    "p.use_dataset('')\n",
    "channels = p.timeseries.getChannels(p.dataset, '', True)"
   ]
  }
 ],
 "metadata": {
  "kernelspec": {
   "display_name": "analysis",
   "language": "python",
   "name": "python3"
  },
  "language_info": {
   "codemirror_mode": {
    "name": "ipython",
    "version": 3
   },
   "file_extension": ".py",
   "mimetype": "text/x-python",
   "name": "python",
   "nbconvert_exporter": "python",
   "pygments_lexer": "ipython3",
   "version": "3.10.16"
  }
 },
 "nbformat": 4,
 "nbformat_minor": 5
}
